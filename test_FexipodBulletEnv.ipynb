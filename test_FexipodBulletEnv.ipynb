{
 "cells": [
  {
   "cell_type": "code",
   "execution_count": 1,
   "id": "patient-vehicle",
   "metadata": {
    "ExecuteTime": {
     "end_time": "2021-02-26T17:20:42.766239Z",
     "start_time": "2021-02-26T17:20:42.584805Z"
    }
   },
   "outputs": [],
   "source": [
    "from FlexipodBulletEnv import FlexipodBulletEnv"
   ]
  },
  {
   "cell_type": "code",
   "execution_count": 2,
   "id": "south-married",
   "metadata": {
    "ExecuteTime": {
     "end_time": "2021-02-26T17:20:46.161912Z",
     "start_time": "2021-02-26T17:20:44.247205Z"
    }
   },
   "outputs": [],
   "source": [
    "env = FlexipodBulletEnv(gui=True)"
   ]
  },
  {
   "cell_type": "code",
   "execution_count": 3,
   "id": "unlike-tsunami",
   "metadata": {
    "ExecuteTime": {
     "end_time": "2021-02-26T17:20:48.181300Z",
     "start_time": "2021-02-26T17:20:48.099283Z"
    }
   },
   "outputs": [
    {
     "data": {
      "text/plain": [
       "array([-1.57073258e+00, -8.56233884e-05,  1.56930032e-04,  1.57086414e+00,\n",
       "       -6.78876748e-05,  1.39269969e-04,  1.57074105e+00, -4.26385193e-05,\n",
       "        2.65943130e-02, -1.57011592e+00, -1.01240186e-04, -2.54573651e-02,\n",
       "       -1.69856003e-04,  2.88272051e-05,  1.04859361e-04])"
      ]
     },
     "execution_count": 3,
     "metadata": {},
     "output_type": "execute_result"
    }
   ],
   "source": [
    "env.reset()"
   ]
  },
  {
   "cell_type": "code",
   "execution_count": null,
   "id": "extra-collect",
   "metadata": {},
   "outputs": [],
   "source": []
  }
 ],
 "metadata": {
  "kernelspec": {
   "display_name": "Python 3",
   "language": "python",
   "name": "python3"
  },
  "language_info": {
   "codemirror_mode": {
    "name": "ipython",
    "version": 3
   },
   "file_extension": ".py",
   "mimetype": "text/x-python",
   "name": "python",
   "nbconvert_exporter": "python",
   "pygments_lexer": "ipython3",
   "version": "3.8.5"
  }
 },
 "nbformat": 4,
 "nbformat_minor": 5
}
