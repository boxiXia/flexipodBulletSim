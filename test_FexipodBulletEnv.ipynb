{
 "cells": [
  {
   "cell_type": "code",
   "execution_count": 1,
   "id": "retained-billion",
   "metadata": {
    "ExecuteTime": {
     "end_time": "2021-03-16T00:46:21.654147Z",
     "start_time": "2021-03-16T00:46:20.943374Z"
    },
    "pycharm": {
     "is_executing": false
    }
   },
   "outputs": [],
   "source": [
    "from FlexipodBulletEnv import FlexipodBulletEnv"
   ]
  },
  {
   "cell_type": "code",
   "execution_count": 2,
   "id": "waiting-lounge",
   "metadata": {
    "ExecuteTime": {
     "end_time": "2021-03-16T00:46:28.952901Z",
     "start_time": "2021-03-16T00:46:26.757514Z"
    }
   },
   "outputs": [],
   "source": [
    "env = FlexipodBulletEnv(gui=True)"
   ]
  },
  {
   "cell_type": "code",
   "execution_count": 3,
   "id": "coral-protest",
   "metadata": {
    "ExecuteTime": {
     "end_time": "2021-03-16T00:46:32.643749Z",
     "start_time": "2021-03-16T00:46:32.564732Z"
    },
    "pycharm": {
     "is_executing": false
    }
   },
   "outputs": [
    {
     "data": {
      "text/plain": [
       "array([-1.57073258e+00, -8.56233884e-05,  1.56930032e-04,  1.57086414e+00,\n",
       "       -6.78876748e-05,  1.39269969e-04,  1.57074105e+00, -4.26385193e-05,\n",
       "        2.65943130e-02, -1.57011592e+00, -1.01240186e-04, -2.54573651e-02,\n",
       "       -1.69856003e-04,  2.88272051e-05,  1.04859361e-04])"
      ]
     },
     "execution_count": 3,
     "metadata": {},
     "output_type": "execute_result"
    }
   ],
   "source": [
    "env.reset()"
   ]
  },
  {
   "cell_type": "code",
   "execution_count": 4,
   "id": "empirical-airport",
   "metadata": {
    "pycharm": {
     "is_executing": false
    }
   },
   "outputs": [
    {
     "ename": "AttributeError",
     "evalue": "'FlexipodBulletEnv' object has no attribute 'observation_space'",
     "output_type": "error",
     "traceback": [
      "\u001b[1;31m------------------------------------------------------------------------\u001b[0m",
      "\u001b[1;31mAttributeError\u001b[0m                         Traceback (most recent call last)",
      "\u001b[1;32m<ipython-input-4-5e76e1a5be59>\u001b[0m in \u001b[0;36m<module>\u001b[1;34m\u001b[0m\n\u001b[1;32m----> 1\u001b[1;33m \u001b[0menv\u001b[0m\u001b[1;33m.\u001b[0m\u001b[0mobservation_space\u001b[0m\u001b[1;33m\u001b[0m\u001b[1;33m\u001b[0m\u001b[0m\n\u001b[0m",
      "\u001b[1;31mAttributeError\u001b[0m: 'FlexipodBulletEnv' object has no attribute 'observation_space'"
     ]
    }
   ],
   "source": [
    "env.observation_space "
   ]
  },
  {
   "cell_type": "code",
   "execution_count": 5,
   "id": "useful-channels",
   "metadata": {},
   "outputs": [
    {
     "ename": "AttributeError",
     "evalue": "'FlexipodBulletEnv' object has no attribute 'action_space'",
     "output_type": "error",
     "traceback": [
      "\u001b[1;31m------------------------------------------------------------------------\u001b[0m",
      "\u001b[1;31mAttributeError\u001b[0m                         Traceback (most recent call last)",
      "\u001b[1;32m<ipython-input-5-c82214482147>\u001b[0m in \u001b[0;36m<module>\u001b[1;34m\u001b[0m\n\u001b[1;32m----> 1\u001b[1;33m \u001b[0menv\u001b[0m\u001b[1;33m.\u001b[0m\u001b[0maction_space\u001b[0m\u001b[1;33m\u001b[0m\u001b[1;33m\u001b[0m\u001b[0m\n\u001b[0m",
      "\u001b[1;31mAttributeError\u001b[0m: 'FlexipodBulletEnv' object has no attribute 'action_space'"
     ]
    }
   ],
   "source": [
    "env.action_space"
   ]
  },
  {
   "cell_type": "code",
   "execution_count": 4,
   "id": "static-yemen",
   "metadata": {
    "ExecuteTime": {
     "end_time": "2021-03-16T00:46:37.452824Z",
     "start_time": "2021-03-16T00:46:37.435832Z"
    }
   },
   "outputs": [
    {
     "data": {
      "text/plain": [
       "(array([-1.57073258e+00, -8.56233884e-05,  1.56930032e-04,  1.57086414e+00,\n",
       "        -6.78876748e-05,  1.39269969e-04,  1.57074105e+00, -4.26385193e-05,\n",
       "         2.65943130e-02, -1.57011592e+00, -1.01240186e-04, -2.54573651e-02,\n",
       "        -1.69856003e-04,  2.88272051e-05,  1.04859361e-04]),\n",
       " 5.283913640439362,\n",
       " False,\n",
       " None)"
      ]
     },
     "execution_count": 4,
     "metadata": {},
     "output_type": "execute_result"
    }
   ],
   "source": [
    "env.step()"
   ]
  },
  {
   "cell_type": "code",
   "execution_count": 5,
   "id": "southern-relay",
   "metadata": {
    "ExecuteTime": {
     "end_time": "2021-03-16T00:46:39.664322Z",
     "start_time": "2021-03-16T00:46:39.100195Z"
    }
   },
   "outputs": [
    {
     "ename": "AttributeError",
     "evalue": "'FlexipodBulletEnv' object has no attribute 'close'",
     "output_type": "error",
     "traceback": [
      "\u001b[1;31m---------------------------------------------------------------------------\u001b[0m",
      "\u001b[1;31mAttributeError\u001b[0m                            Traceback (most recent call last)",
      "\u001b[1;32m<ipython-input-5-1baceacf4cb1>\u001b[0m in \u001b[0;36m<module>\u001b[1;34m\u001b[0m\n\u001b[1;32m----> 1\u001b[1;33m \u001b[0menv\u001b[0m\u001b[1;33m.\u001b[0m\u001b[0mclose\u001b[0m\u001b[1;33m(\u001b[0m\u001b[1;33m)\u001b[0m\u001b[1;33m\u001b[0m\u001b[1;33m\u001b[0m\u001b[0m\n\u001b[0m",
      "\u001b[1;31mAttributeError\u001b[0m: 'FlexipodBulletEnv' object has no attribute 'close'"
     ]
    }
   ],
   "source": [
    "env.close()"
   ]
  },
  {
   "cell_type": "code",
   "execution_count": null,
   "id": "personalized-squad",
   "metadata": {},
   "outputs": [],
   "source": [
    "# document reward\n",
    "# reward = ...+...+...\n",
    "# use new model (12DOF)"
   ]
  }
 ],
 "metadata": {
  "kernelspec": {
   "display_name": "Python 3",
   "language": "python",
   "name": "python3"
  },
  "language_info": {
   "codemirror_mode": {
    "name": "ipython",
    "version": 3
   },
   "file_extension": ".py",
   "mimetype": "text/x-python",
   "name": "python",
   "nbconvert_exporter": "python",
   "pygments_lexer": "ipython3",
   "version": "3.8.5"
  },
  "pycharm": {
   "stem_cell": {
    "cell_type": "raw",
    "metadata": {
     "collapsed": false
    },
    "source": []
   }
  }
 },
 "nbformat": 4,
 "nbformat_minor": 5
}
