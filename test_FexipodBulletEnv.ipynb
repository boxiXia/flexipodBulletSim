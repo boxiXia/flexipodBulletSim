{
 "cells": [
  {
   "cell_type": "code",
   "execution_count": 1,
   "id": "patient-vehicle",
   "metadata": {
    "ExecuteTime": {
     "end_time": "2021-02-26T17:20:42.766239Z",
     "start_time": "2021-02-26T17:20:42.584805Z"
    },
    "pycharm": {
     "is_executing": false
    }
   },
   "outputs": [],
   "source": [
    "from FlexipodBulletEnv import FlexipodBulletEnv\n"
   ]
  },
  {
   "cell_type": "code",
   "execution_count": 6,
   "id": "south-married",
   "metadata": {
    "ExecuteTime": {
     "end_time": "2021-02-26T17:20:46.161912Z",
     "start_time": "2021-02-26T17:20:44.247205Z"
    },
    "pycharm": {
     "is_executing": false
    }
   },
   "outputs": [],
   "source": [
    "env = FlexipodBulletEnv(gui=True)"
   ]
  },
  {
   "cell_type": "code",
   "execution_count": 7,
   "id": "unlike-tsunami",
   "metadata": {
    "ExecuteTime": {
     "end_time": "2021-02-26T17:20:48.181300Z",
     "start_time": "2021-02-26T17:20:48.099283Z"
    },
    "pycharm": {
     "is_executing": false
    }
   },
   "outputs": [
    {
     "data": {
      "text/plain": "array([-1.57103193e+00, -1.39821985e-03, -5.82022837e-04,  1.56819048e+00,\n       -6.54132986e-04, -1.46497724e-03,  1.57076031e+00,  7.99690042e-05,\n        1.07650539e-01, -1.56960878e+00, -2.95408356e-03, -4.79833007e-02,\n       -8.39869203e-04,  3.51132680e-05,  4.78034603e-04])"
     },
     "metadata": {},
     "output_type": "execute_result",
     "execution_count": 7
    }
   ],
   "source": [
    "env.reset()"
   ]
  },
  {
   "cell_type": "code",
   "execution_count": 3,
   "id": "extra-collect",
   "metadata": {
    "pycharm": {
     "is_executing": false
    }
   },
   "outputs": [],
   "source": []
  }
 ],
 "metadata": {
  "kernelspec": {
   "display_name": "Python 3",
   "language": "python",
   "name": "python3"
  },
  "language_info": {
   "codemirror_mode": {
    "name": "ipython",
    "version": 3
   },
   "file_extension": ".py",
   "mimetype": "text/x-python",
   "name": "python",
   "nbconvert_exporter": "python",
   "pygments_lexer": "ipython3",
   "version": "3.8.5"
  },
  "pycharm": {
   "stem_cell": {
    "cell_type": "raw",
    "source": [],
    "metadata": {
     "collapsed": false
    }
   }
  }
 },
 "nbformat": 4,
 "nbformat_minor": 5
}